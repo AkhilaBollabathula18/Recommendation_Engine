{
  "nbformat": 4,
  "nbformat_minor": 0,
  "metadata": {
    "colab": {
      "provenance": []
    },
    "kernelspec": {
      "name": "python3",
      "display_name": "Python 3"
    },
    "language_info": {
      "name": "python"
    }
  },
  "cells": [
    {
      "cell_type": "code",
      "execution_count": 14,
      "metadata": {
        "id": "4Cs4g8Kktkh-"
      },
      "outputs": [],
      "source": [
        "import pandas as pd\n",
        "import numpy as np\n",
        "import matplotlib.pyplot as plt\n",
        "import seaborn as sns"
      ]
    },
    {
      "cell_type": "code",
      "source": [
        "col_names=[\"user_id\",\"item_id\",\"rating\",\"timestamp\"]\n",
        "path=\"Recommend.csv\"\n",
        "df=pd.read_csv(path,names=col_names)\n",
        "#df=pd.read_csv(\"Recommend.csv\")\n",
        "df.head(10)"
      ],
      "metadata": {
        "id": "WeS-_McxuCzp"
      },
      "execution_count": null,
      "outputs": []
    },
    {
      "cell_type": "code",
      "source": [
        "df.columns"
      ],
      "metadata": {
        "id": "Y1htAtoHuKE1"
      },
      "execution_count": null,
      "outputs": []
    },
    {
      "cell_type": "code",
      "source": [
        "df.shape"
      ],
      "metadata": {
        "id": "cXRTtjHluN_W"
      },
      "execution_count": null,
      "outputs": []
    },
    {
      "cell_type": "code",
      "source": [
        "df.nunique()"
      ],
      "metadata": {
        "id": "GHjI1-sPuPsO"
      },
      "execution_count": null,
      "outputs": []
    },
    {
      "cell_type": "code",
      "source": [
        "df1=pd.read_csv(\"/content/Movie_Id_Titles.csv\")\n",
        "df1.head()"
      ],
      "metadata": {
        "id": "-Ov0c5sjuVEC"
      },
      "execution_count": null,
      "outputs": []
    },
    {
      "cell_type": "code",
      "source": [
        "data=pd.merge(df,df1,on=\"item_id\")\n",
        "data.head()"
      ],
      "metadata": {
        "id": "lS3BT3KHuiFH"
      },
      "execution_count": null,
      "outputs": []
    },
    {
      "cell_type": "code",
      "source": [
        "data.groupby(\"title\")[\"rating\"].mean().sort_values(ascending=False).head()"
      ],
      "metadata": {
        "id": "eAOBvpuruyNY"
      },
      "execution_count": null,
      "outputs": []
    },
    {
      "cell_type": "code",
      "source": [
        "data.groupby(\"title\")[\"rating\"].count().sort_values(ascending=False).head()"
      ],
      "metadata": {
        "collapsed": true,
        "id": "GXeeQYAhu-yV"
      },
      "execution_count": null,
      "outputs": []
    },
    {
      "cell_type": "code",
      "source": [
        "rating=pd.DataFrame(data.groupby(\"title\")[\"rating\"].mean())\n",
        "rating[\"num_of_rating\"]=pd.DataFrame(data.groupby(\"title\")[\"rating\"].count())\n",
        "rating.head()"
      ],
      "metadata": {
        "id": "0QRVvwoSvCdv"
      },
      "execution_count": null,
      "outputs": []
    },
    {
      "cell_type": "code",
      "source": [
        "data.groupby(\"title\")[\"rating\"].agg([\"mean\",\"count\"]).rename(columns={\"count\":\"num_of_rating\",\"mean\":\"rating\"})"
      ],
      "metadata": {
        "id": "UTbc8qRsvGXk"
      },
      "execution_count": null,
      "outputs": []
    },
    {
      "cell_type": "code",
      "source": [
        "sns.set_style(\"white\")\n",
        "plt.rcParams[\"font.size\"]=14\n",
        "plt.rcParams[\"axes.grid\"]=True\n",
        "plt.rcParams[\"figure.figsize\"]=(12,5)"
      ],
      "metadata": {
        "id": "eVH4T5hMvJep"
      },
      "execution_count": 25,
      "outputs": []
    },
    {
      "cell_type": "code",
      "source": [
        "rating[\"num_of_rating\"].hist(bins=70)\n",
        "plt.show()"
      ],
      "metadata": {
        "id": "k6JMk0xhvMXO"
      },
      "execution_count": null,
      "outputs": []
    },
    {
      "cell_type": "code",
      "source": [
        "rating[\"rating\"].hist(bins=70)\n",
        "plt.show()"
      ],
      "metadata": {
        "id": "dHSpRyAtvMjE"
      },
      "execution_count": null,
      "outputs": []
    },
    {
      "cell_type": "code",
      "source": [
        "data.head()"
      ],
      "metadata": {
        "id": "9PSC3K3GvM6-"
      },
      "execution_count": null,
      "outputs": []
    },
    {
      "cell_type": "code",
      "source": [
        "moviemat=data.pivot_table(index=\"user_id\",columns=\"title\",values=\"rating\")\n",
        "moviemat.head(10)"
      ],
      "metadata": {
        "id": "DqcTwsAvvNFx"
      },
      "execution_count": null,
      "outputs": []
    },
    {
      "cell_type": "code",
      "source": [
        "rating.sort_values(\"num_of_rating\",ascending=False).head(5)"
      ],
      "metadata": {
        "id": "4ywuWDnHvcbW"
      },
      "execution_count": null,
      "outputs": []
    },
    {
      "cell_type": "code",
      "source": [
        "#corelation of similar movie:\n",
        "starwar=moviemat[\"Star Wars (1977)\"]\n",
        "lier=moviemat[\"Liar Liar (1997)\"]\n",
        "starwar.head()"
      ],
      "metadata": {
        "id": "Hujz81Mmvffa"
      },
      "execution_count": null,
      "outputs": []
    },
    {
      "cell_type": "code",
      "source": [
        "similar_starwar=moviemat.corrwith(starwar)\n",
        "similar_starwar.head()"
      ],
      "metadata": {
        "id": "3qLDtI-3viYb"
      },
      "execution_count": null,
      "outputs": []
    },
    {
      "cell_type": "code",
      "source": [
        "similar_lier=moviemat.corrwith(lier)\n",
        "similar_lier.head()"
      ],
      "metadata": {
        "id": "DvVl3gT5vmHd"
      },
      "execution_count": null,
      "outputs": []
    },
    {
      "cell_type": "code",
      "source": [
        "#correlation\n",
        "corr_starwar=pd.DataFrame(similar_starwar,columns=[\"correlation\"])\n",
        "corr_starwar.dropna(inplace=True)\n",
        "corr_starwar.head()"
      ],
      "metadata": {
        "id": "VCjG-ee5vpMa"
      },
      "execution_count": null,
      "outputs": []
    },
    {
      "cell_type": "code",
      "source": [
        "corr_starwar=corr_starwar.join(rating[\"num_of_rating\"])\n",
        "corr_starwar.head()"
      ],
      "metadata": {
        "id": "bgsy6c5-vsjF"
      },
      "execution_count": null,
      "outputs": []
    },
    {
      "cell_type": "code",
      "source": [
        "#similar to the starwar\n",
        "corr_starwar[corr_starwar[\"num_of_rating\"]>400].sort_values(\"correlation\",ascending=False).head(10)"
      ],
      "metadata": {
        "id": "t0VLlqu6vv0Q"
      },
      "execution_count": null,
      "outputs": []
    },
    {
      "cell_type": "code",
      "source": [
        "corr_lier=pd.DataFrame(similar_lier,columns=[\"correlation\"])\n",
        "corr_lier.dropna(inplace=True)\n",
        "corr_lier.head()"
      ],
      "metadata": {
        "id": "G0x3OfURvyx2"
      },
      "execution_count": null,
      "outputs": []
    },
    {
      "cell_type": "code",
      "source": [
        "corr_lier=corr_lier.join(rating[\"num_of_rating\"])\n",
        "corr_lier.head()"
      ],
      "metadata": {
        "id": "pF1DdKPgv2u-"
      },
      "execution_count": null,
      "outputs": []
    },
    {
      "cell_type": "code",
      "source": [
        "corr_lier[corr_lier[\"num_of_rating\"]>400].sort_values(\"correlation\",ascending=False).head(10)"
      ],
      "metadata": {
        "id": "IdclMgr6v6xK"
      },
      "execution_count": null,
      "outputs": []
    },
    {
      "cell_type": "code",
      "source": [
        "angry_men=moviemat[\"Contact (1997)\"]"
      ],
      "metadata": {
        "id": "kNZQ0Lfiv9sC"
      },
      "execution_count": 40,
      "outputs": []
    },
    {
      "cell_type": "code",
      "source": [
        "similar_angry_men=moviemat.corrwith(angry_men)\n",
        "similar_angry_men.head()"
      ],
      "metadata": {
        "id": "5kUtEGn_wAiM"
      },
      "execution_count": null,
      "outputs": []
    },
    {
      "cell_type": "code",
      "source": [
        "corr_contact=pd.DataFrame(similar_angry_men,columns=[\"correlation\"])\n",
        "corr_contact.dropna(inplace=True)\n",
        "corr_contact.head()"
      ],
      "metadata": {
        "id": "GCNpndMkwFFA"
      },
      "execution_count": null,
      "outputs": []
    },
    {
      "cell_type": "code",
      "source": [
        "corr_contact=corr_contact.join(rating[\"num_of_rating\"])\n",
        "corr_contact.head()"
      ],
      "metadata": {
        "id": "sKv8jeSowICT"
      },
      "execution_count": null,
      "outputs": []
    },
    {
      "cell_type": "code",
      "source": [
        "corr_contact[corr_contact[\"num_of_rating\"]>400].sort_values(\"correlation\",ascending=False).head(10)"
      ],
      "metadata": {
        "id": "1olGx3eZwLCj"
      },
      "execution_count": null,
      "outputs": []
    },
    {
      "cell_type": "code",
      "source": [],
      "metadata": {
        "id": "xfEdtdXmxWKp"
      },
      "execution_count": null,
      "outputs": []
    }
  ]
}